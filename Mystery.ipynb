{
 "cells": [
  {
   "cell_type": "code",
   "execution_count": null,
   "id": "af96775f",
   "metadata": {},
   "outputs": [],
   "source": [
    "import tkinter as tk\n",
    "import mysql.connector\n",
    "from tkinter import *\n",
    "from tkhtmlview import HTMLLabel\n",
    "\n",
    "\n",
    "def logintodb():\n",
    "    mydb = mysql.connector.connect(host =\"localhost\",user = \"root\",password = \"UshaSri.39\",db =\"puzzle\")\n",
    "    cursor = mydb.cursor()\n",
    "    savequery = \"insert into players(username,password) values(%s,%s)\"\n",
    "    val=(Username.get(),password.get())\n",
    "    try:\n",
    "        cursor.execute(savequery,val)\n",
    "        mydb.commit()\n",
    "        label1=HTMLLabel(root,html=\"\"\"<h1>Welcome</h1> <a href=\"firstPage.html\">Play</a>\"\"\")\n",
    "        label1.pack(fill=\"both\",expand=True)\n",
    "    except:\n",
    "        mydb.rollback()\n",
    "        print(\"Error occurred\")\n",
    "\n",
    "\n",
    "root = tk.Tk()\n",
    "root.geometry(\"950x500\")\n",
    "root.title(\"Login to play\")\n",
    "\n",
    "\n",
    "# Defining the first row\n",
    "lblfrstrow = tk.Label(root, text =\"Username -\" )\n",
    "lblfrstrow.place(x = 50, y = 20)\n",
    "\n",
    "Username = tk.Entry(root, width = 35)\n",
    "Username.place(x = 150, y = 20, width = 100)\n",
    "\n",
    "lblsecrow = tk.Label(root, text =\"Password -\")\n",
    "lblsecrow.place(x = 50, y = 50)\n",
    "\n",
    "password = tk.Entry(root, width = 35)\n",
    "password.place(x = 150, y = 50, width = 100)\n",
    "\n",
    "submitbtn = tk.Button(root, text =\"Login\",\n",
    "\t\t\t\t\tbg ='blue', command = logintodb)\n",
    "submitbtn.place(x = 150, y = 135, width = 55)\n",
    "\n",
    "root.mainloop()"
   ]
  },
  {
   "cell_type": "code",
   "execution_count": null,
   "id": "c43559b4",
   "metadata": {},
   "outputs": [],
   "source": []
  }
 ],
 "metadata": {
  "kernelspec": {
   "display_name": "Python 3 (ipykernel)",
   "language": "python",
   "name": "python3"
  },
  "language_info": {
   "codemirror_mode": {
    "name": "ipython",
    "version": 3
   },
   "file_extension": ".py",
   "mimetype": "text/x-python",
   "name": "python",
   "nbconvert_exporter": "python",
   "pygments_lexer": "ipython3",
   "version": "3.10.9"
  }
 },
 "nbformat": 4,
 "nbformat_minor": 5
}
